{
 "cells": [
  {
   "cell_type": "markdown",
   "id": "de02c671",
   "metadata": {},
   "source": [
    "# Connections and Functions"
   ]
  },
  {
   "cell_type": "code",
   "execution_count": 1,
   "id": "ce66927b",
   "metadata": {},
   "outputs": [],
   "source": [
    "import os\n",
    "import neo4j\n",
    "import pandas as pd\n",
    "from IPython.display import display"
   ]
  },
  {
   "cell_type": "code",
   "execution_count": 2,
   "id": "c5278ec7",
   "metadata": {},
   "outputs": [],
   "source": [
    "driver = neo4j.GraphDatabase.driver(uri=\"neo4j://neo4j:7687\", auth=(\"neo4j\",\"ucb_mids_w205\"))\n",
    "session = driver.session(database=\"neo4j\")"
   ]
  },
  {
   "cell_type": "code",
   "execution_count": 3,
   "id": "00790f27",
   "metadata": {},
   "outputs": [],
   "source": [
    "# functions\n",
    "def my_neo4j_wipe_out_database():\n",
    "    \"wipe out database by deleting all nodes and relationships\"\n",
    "    query = \"match (node)-[relationship]->() delete node, relationship\"\n",
    "    session.run(query) \n",
    "    query = \"match (node) delete node\"\n",
    "    session.run(query)\n",
    "    \n",
    "def my_neo4j_run_query_pandas(query, **kwargs):\n",
    "    \"run a query and return the results in a pandas dataframe\"\n",
    "    result = session.run(query, **kwargs)\n",
    "    df = pd.DataFrame([r.values() for r in result], columns=result.keys())\n",
    "    \n",
    "    return df\n",
    "\n",
    "def my_neo4j_nodes_relationships():\n",
    "    \"print all the nodes and relationships\"\n",
    "    print(\"-------------------------\")\n",
    "    print(\"  Nodes:\")\n",
    "    print(\"-------------------------\")\n",
    "    query = \"\"\"\n",
    "        match (n) \n",
    "        return n.name as node_name, labels(n) as labels\n",
    "        order by n.name\n",
    "    \"\"\"\n",
    "    df = my_neo4j_run_query_pandas(query)\n",
    "    number_nodes = df.shape[0]\n",
    "    display(df)\n",
    "    print(\"-------------------------\")\n",
    "    print(\"  Relationships:\")\n",
    "    print(\"-------------------------\")\n",
    "    query = \"\"\"\n",
    "        match (n1)-[r]->(n2) \n",
    "        return n1.name as node_name_1, labels(n1) as node_1_labels, \n",
    "            type(r) as relationship_type, n2.name as node_name_2, labels(n2) as node_2_labels\n",
    "        order by node_name_1, node_name_2\n",
    "    \"\"\"\n",
    "    df = my_neo4j_run_query_pandas(query)\n",
    "    number_relationships = df.shape[0]\n",
    "    display(df)\n",
    "    density = (2 * number_relationships) / (number_nodes * (number_nodes - 1))\n",
    "    print(\"-------------------------\")\n",
    "    print(\"  Density:\", f'{density:.1f}')\n",
    "    print(\"-------------------------\")"
   ]
  },
  {
   "cell_type": "markdown",
   "id": "aee7294b",
   "metadata": {},
   "source": [
    "# Testing"
   ]
  },
  {
   "cell_type": "code",
   "execution_count": 4,
   "id": "a6bf17d4",
   "metadata": {},
   "outputs": [],
   "source": [
    "my_neo4j_wipe_out_database()"
   ]
  },
  {
   "cell_type": "code",
   "execution_count": 5,
   "id": "0a569efb",
   "metadata": {},
   "outputs": [
    {
     "data": {
      "text/plain": [
       "<neo4j._sync.work.result.Result at 0x7fd2d631e580>"
      ]
     },
     "execution_count": 5,
     "metadata": {},
     "output_type": "execute_result"
    }
   ],
   "source": [
    "my_neo4j_wipe_out_database()\n",
    "\n",
    "query = \"\"\"\n",
    "\n",
    "CREATE\n",
    "    (E100000002359:Entity {id: 'E100000002359', name: '1590 Energy', entity_type: 'legal entity', legal_entity_type: 'Co', publicly_listed: '', country: ''}),\n",
    "    (E100001014315:Entity {id: 'E100001014315', name: '1832 Asset Management', entity_type: 'legal entity', legal_entity_type: 'LP', publicly_listed: 'FALSE', country: 'Canada'}),\n",
    "    (EP1:Energy_Project {name: '48th Street power station 9', energy_project_type: 'Gas or Oil Plant', capacity_mw: 84, fuel: 'fossil gas: natural gas', status: 'operating', country: 'United States'}),\n",
    "    (E100000002359)-[:SHARE {share: 100}]->(E100001014315),\n",
    "    (E100001014315)-[:SHARE {share: 70}]->(EP1)\n",
    "    \n",
    "\"\"\"\n",
    "\n",
    "session.run(query)"
   ]
  },
  {
   "cell_type": "code",
   "execution_count": 6,
   "id": "47685209",
   "metadata": {
    "scrolled": true
   },
   "outputs": [
    {
     "name": "stdout",
     "output_type": "stream",
     "text": [
      "-------------------------\n",
      "  Nodes:\n",
      "-------------------------\n"
     ]
    },
    {
     "data": {
      "text/html": [
       "<div>\n",
       "<style scoped>\n",
       "    .dataframe tbody tr th:only-of-type {\n",
       "        vertical-align: middle;\n",
       "    }\n",
       "\n",
       "    .dataframe tbody tr th {\n",
       "        vertical-align: top;\n",
       "    }\n",
       "\n",
       "    .dataframe thead th {\n",
       "        text-align: right;\n",
       "    }\n",
       "</style>\n",
       "<table border=\"1\" class=\"dataframe\">\n",
       "  <thead>\n",
       "    <tr style=\"text-align: right;\">\n",
       "      <th></th>\n",
       "      <th>node_name</th>\n",
       "      <th>labels</th>\n",
       "    </tr>\n",
       "  </thead>\n",
       "  <tbody>\n",
       "    <tr>\n",
       "      <th>0</th>\n",
       "      <td>1590 Energy</td>\n",
       "      <td>[Entity]</td>\n",
       "    </tr>\n",
       "    <tr>\n",
       "      <th>1</th>\n",
       "      <td>1832 Asset Management</td>\n",
       "      <td>[Entity]</td>\n",
       "    </tr>\n",
       "    <tr>\n",
       "      <th>2</th>\n",
       "      <td>48th Street power station 9</td>\n",
       "      <td>[Energy_Project]</td>\n",
       "    </tr>\n",
       "  </tbody>\n",
       "</table>\n",
       "</div>"
      ],
      "text/plain": [
       "                     node_name            labels\n",
       "0                  1590 Energy          [Entity]\n",
       "1        1832 Asset Management          [Entity]\n",
       "2  48th Street power station 9  [Energy_Project]"
      ]
     },
     "metadata": {},
     "output_type": "display_data"
    },
    {
     "name": "stdout",
     "output_type": "stream",
     "text": [
      "-------------------------\n",
      "  Relationships:\n",
      "-------------------------\n"
     ]
    },
    {
     "data": {
      "text/html": [
       "<div>\n",
       "<style scoped>\n",
       "    .dataframe tbody tr th:only-of-type {\n",
       "        vertical-align: middle;\n",
       "    }\n",
       "\n",
       "    .dataframe tbody tr th {\n",
       "        vertical-align: top;\n",
       "    }\n",
       "\n",
       "    .dataframe thead th {\n",
       "        text-align: right;\n",
       "    }\n",
       "</style>\n",
       "<table border=\"1\" class=\"dataframe\">\n",
       "  <thead>\n",
       "    <tr style=\"text-align: right;\">\n",
       "      <th></th>\n",
       "      <th>node_name_1</th>\n",
       "      <th>node_1_labels</th>\n",
       "      <th>relationship_type</th>\n",
       "      <th>node_name_2</th>\n",
       "      <th>node_2_labels</th>\n",
       "    </tr>\n",
       "  </thead>\n",
       "  <tbody>\n",
       "    <tr>\n",
       "      <th>0</th>\n",
       "      <td>1590 Energy</td>\n",
       "      <td>[Entity]</td>\n",
       "      <td>SHARE</td>\n",
       "      <td>1832 Asset Management</td>\n",
       "      <td>[Entity]</td>\n",
       "    </tr>\n",
       "    <tr>\n",
       "      <th>1</th>\n",
       "      <td>1832 Asset Management</td>\n",
       "      <td>[Entity]</td>\n",
       "      <td>SHARE</td>\n",
       "      <td>48th Street power station 9</td>\n",
       "      <td>[Energy_Project]</td>\n",
       "    </tr>\n",
       "  </tbody>\n",
       "</table>\n",
       "</div>"
      ],
      "text/plain": [
       "             node_name_1 node_1_labels relationship_type  \\\n",
       "0            1590 Energy      [Entity]             SHARE   \n",
       "1  1832 Asset Management      [Entity]             SHARE   \n",
       "\n",
       "                   node_name_2     node_2_labels  \n",
       "0        1832 Asset Management          [Entity]  \n",
       "1  48th Street power station 9  [Energy_Project]  "
      ]
     },
     "metadata": {},
     "output_type": "display_data"
    },
    {
     "name": "stdout",
     "output_type": "stream",
     "text": [
      "-------------------------\n",
      "  Density: 0.7\n",
      "-------------------------\n"
     ]
    }
   ],
   "source": [
    "my_neo4j_nodes_relationships()\n",
    "\n",
    "# in GUI run match (n) return n"
   ]
  },
  {
   "cell_type": "markdown",
   "id": "2b81add0",
   "metadata": {},
   "source": [
    "# CSV TESTING"
   ]
  },
  {
   "cell_type": "code",
   "execution_count": 12,
   "id": "7fef6668",
   "metadata": {
    "scrolled": true
   },
   "outputs": [
    {
     "data": {
      "text/plain": [
       "<neo4j._sync.work.result.Result at 0x7fc5a13f1850>"
      ]
     },
     "execution_count": 12,
     "metadata": {},
     "output_type": "execute_result"
    }
   ],
   "source": [
    "my_neo4j_wipe_out_database()\n",
    "\n",
    "query = \"\"\"\n",
    "\n",
    "LOAD CSV WITH HEADERS FROM 'file:///companies.csv' AS row\n",
    "WITH row WHERE row.Id IS NOT NULL\n",
    "MERGE (c:Company {companyId: row.Id});\n",
    "\n",
    "\"\"\"\n",
    "\n",
    "session.run(query)"
   ]
  },
  {
   "cell_type": "code",
   "execution_count": 28,
   "id": "cba8b8d8",
   "metadata": {
    "scrolled": true
   },
   "outputs": [
    {
     "name": "stdout",
     "output_type": "stream",
     "text": [
      "file:///entity_nodes_abbr.csv\n",
      "file:///energy_project_nodes_abbr.csv\n",
      "file:///relationships.csv\n",
      "file:///ep_relationship_abbr.csv\n",
      "file:///entity_relationships_abbr.csv\n"
     ]
    }
   ],
   "source": [
    "print('file:///entity_nodes_abbr.csv')\n",
    "print('file:///energy_project_nodes_abbr.csv')\n",
    "print('file:///relationships.csv') # not in use\n",
    "print('file:///ep_relationship_abbr.csv')\n",
    "print('file:///entity_relationships_abbr.csv')"
   ]
  },
  {
   "cell_type": "code",
   "execution_count": 42,
   "id": "9870b3b9",
   "metadata": {},
   "outputs": [],
   "source": [
    "my_neo4j_wipe_out_database()"
   ]
  },
  {
   "cell_type": "code",
   "execution_count": 43,
   "id": "6d227d9c",
   "metadata": {},
   "outputs": [
    {
     "data": {
      "text/plain": [
       "<neo4j._sync.work.result.Result at 0x7fc5a12ddf70>"
      ]
     },
     "execution_count": 43,
     "metadata": {},
     "output_type": "execute_result"
    }
   ],
   "source": [
    "query = \"\"\"\n",
    "\n",
    "LOAD CSV WITH HEADERS FROM \"file:///entity_nodes_abbr.csv\" AS row\n",
    "WITH row WHERE row.ID IS NOT NULL\n",
    "MERGE (e:Entity {id: row.ID,\n",
    "    name: row.Name,\n",
    "    entity_type: coalesce(row['Entity Type'], \"Unknown\"),\n",
    "    legal_entity_type: coalesce(row['Legal Entity Type'], \"Unknown\"),\n",
    "    publicly_listed: coalesce(row.PubliclyListed, \"Unknown\"),\n",
    "    country: coalesce(row.Country, \"Unknown\")\n",
    "    });\n",
    "\n",
    "\"\"\"\n",
    "\n",
    "session.run(query)"
   ]
  },
  {
   "cell_type": "code",
   "execution_count": 44,
   "id": "0b12efdb",
   "metadata": {},
   "outputs": [
    {
     "data": {
      "text/plain": [
       "<neo4j._sync.work.result.Result at 0x7fc5a12ddee0>"
      ]
     },
     "execution_count": 44,
     "metadata": {},
     "output_type": "execute_result"
    }
   ],
   "source": [
    "query = \"\"\"\n",
    "\n",
    "LOAD CSV WITH HEADERS FROM \"file:///energy_project_nodes_abbr.csv\" AS row\n",
    "WITH row WHERE row.Energy_Project_Node_Name IS NOT NULL\n",
    "MERGE (ep:Energy_Project {name: row.Energy_Project_Node_Name,\n",
    "    energy_project_type: row.Energy_Project_Type,\n",
    "    capacity_mw: coalesce(row[\"Capacity (MW)\"], 0),\n",
    "    status: coalesce(row.Status, \"Unknown\"),\n",
    "    country: coalesce(row.Country, \"Unknown\"),\n",
    "    capacity_mtpa: coalesce(row[\"Capacity (Mtpa)\"], 0),\n",
    "    nominal_crude_steel_capacity_ttpa: coalesce(row[\"Nominal crude steel capacity (ttpa)\"], 0)\n",
    "    });\n",
    "\n",
    "\"\"\"\n",
    "\n",
    "session.run(query)"
   ]
  },
  {
   "cell_type": "code",
   "execution_count": 45,
   "id": "221ae328",
   "metadata": {},
   "outputs": [
    {
     "data": {
      "text/plain": [
       "<neo4j._sync.work.result.Result at 0x7fc5a13f1880>"
      ]
     },
     "execution_count": 45,
     "metadata": {},
     "output_type": "execute_result"
    }
   ],
   "source": [
    "query = \"\"\"\n",
    "\n",
    "LOAD CSV WITH HEADERS FROM \"file:///ep_relationship_abbr.csv\" AS row\n",
    "MATCH (f:Energy_Project {name: row.from})\n",
    "MATCH (t:Entity {id: row.to})\n",
    "MERGE (f)-[:SHARE {share: coalesce(row.share, \"Unknown\")}]->(t)\n",
    "\n",
    "\"\"\"\n",
    "\n",
    "session.run(query)"
   ]
  },
  {
   "cell_type": "code",
   "execution_count": 46,
   "id": "0acdefb8",
   "metadata": {},
   "outputs": [
    {
     "data": {
      "text/plain": [
       "<neo4j._sync.work.result.Result at 0x7fc5a12dd0d0>"
      ]
     },
     "execution_count": 46,
     "metadata": {},
     "output_type": "execute_result"
    }
   ],
   "source": [
    "# unable to find match or command for Cypher\n",
    "query = \"\"\"\n",
    "\n",
    "LOAD CSV WITH HEADERS FROM \"file:///entity_relationships_abbr.csv\" AS row\n",
    "MATCH (f:Entity {id: row.from})\n",
    "MATCH (t:Entity {id: row.to})\n",
    "MERGE (f)-[:SHARE {share: coalesce(row.share, \"Unknown\")}]->(t)\n",
    "\n",
    "\"\"\"\n",
    "\n",
    "session.run(query)"
   ]
  },
  {
   "cell_type": "markdown",
   "id": "c3ab2762",
   "metadata": {},
   "source": [
    "## Final Import"
   ]
  },
  {
   "cell_type": "code",
   "execution_count": 4,
   "id": "eee815c0",
   "metadata": {
    "scrolled": true
   },
   "outputs": [
    {
     "name": "stdout",
     "output_type": "stream",
     "text": [
      "file:///entity_nodes.csv\n",
      "file:///energy_project_nodes.csv\n",
      "file:///relationships.csv\n",
      "file:///energy_project_relationships.csv\n",
      "file:///entity_relationships.csv\n"
     ]
    }
   ],
   "source": [
    "print('file:///entity_nodes.csv')\n",
    "print('file:///energy_project_nodes.csv')\n",
    "print('file:///relationships.csv') # not in use\n",
    "print('file:///energy_project_relationships.csv')\n",
    "print('file:///entity_relationships.csv')"
   ]
  },
  {
   "cell_type": "code",
   "execution_count": 5,
   "id": "929e11ea",
   "metadata": {},
   "outputs": [],
   "source": [
    "my_neo4j_wipe_out_database()"
   ]
  },
  {
   "cell_type": "code",
   "execution_count": 7,
   "id": "ef9717e5",
   "metadata": {
    "scrolled": true
   },
   "outputs": [
    {
     "data": {
      "text/plain": [
       "<neo4j._sync.work.result.Result at 0x7efdaa19ef10>"
      ]
     },
     "execution_count": 7,
     "metadata": {},
     "output_type": "execute_result"
    }
   ],
   "source": [
    "query = \"\"\"\n",
    "\n",
    "LOAD CSV WITH HEADERS FROM \"file:///entity_nodes.csv\" AS row\n",
    "WITH row WHERE row.ID IS NOT NULL\n",
    "MERGE (e:Entity {id: row.ID,\n",
    "    name: row.Name,\n",
    "    entity_type: coalesce(row['Entity Type'], \"Unknown\"),\n",
    "    legal_entity_type: coalesce(row['Legal Entity Type'], \"Unknown\"),\n",
    "    publicly_listed: coalesce(row.PubliclyListed, \"Unknown\"),\n",
    "    country: coalesce(row.Country, \"Unknown\"),\n",
    "    coal_plant_capacity: coalesce(row['coal plant capacity'],\"None\"),\n",
    "    gas_plant_capacity: coalesce(row['gas capacity'],\"None\"),\n",
    "    bio_plant_capacity: coalesce(row['bioenergy plant capacity'],\"None\"),\n",
    "    coal_mine_capacity: coalesce(row['coal mine capacity'],\"None\"),\n",
    "    steel_plant_capacity: coalesce(row['coal mine capacity'],\"None\")\n",
    "    });\n",
    "\n",
    "\"\"\"\n",
    "\n",
    "session.run(query)"
   ]
  },
  {
   "cell_type": "code",
   "execution_count": 8,
   "id": "cae66338",
   "metadata": {},
   "outputs": [
    {
     "data": {
      "text/plain": [
       "<neo4j._sync.work.result.Result at 0x7efdaa117f70>"
      ]
     },
     "execution_count": 8,
     "metadata": {},
     "output_type": "execute_result"
    }
   ],
   "source": [
    "query = \"\"\"\n",
    "\n",
    "LOAD CSV WITH HEADERS FROM \"file:///energy_project_nodes.csv\" AS row\n",
    "WITH row WHERE row.Energy_Project_Node_Name IS NOT NULL\n",
    "MERGE (ep:Energy_Project {name: row.Energy_Project_Node_Name,\n",
    "    energy_project_type: row.Energy_Project_Type,\n",
    "    capacity_mw: coalesce(row[\"Capacity (MW)\"], 0),\n",
    "    status: coalesce(row.Status, \"Unknown\"),\n",
    "    country: coalesce(row.Country, \"Unknown\"),\n",
    "    capacity_mtpa: coalesce(row[\"Capacity (Mtpa)\"], 0),\n",
    "    nominal_crude_steel_capacity_ttpa: coalesce(row[\"Nominal crude steel capacity (ttpa)\"], 0)\n",
    "    });\n",
    "\n",
    "\"\"\"\n",
    "\n",
    "session.run(query)"
   ]
  },
  {
   "cell_type": "code",
   "execution_count": 9,
   "id": "4f89e0c6",
   "metadata": {},
   "outputs": [
    {
     "data": {
      "text/plain": [
       "<neo4j._sync.work.result.Result at 0x7efdaa19eee0>"
      ]
     },
     "execution_count": 9,
     "metadata": {},
     "output_type": "execute_result"
    }
   ],
   "source": [
    "query = \"\"\"\n",
    "\n",
    "LOAD CSV WITH HEADERS FROM \"file:///energy_project_relationships.csv\" AS row\n",
    "MATCH (f:Energy_Project {name: row.from})\n",
    "MATCH (t:Entity {id: row.to})\n",
    "MERGE (f)-[:SHARE {share: coalesce(row.share, \"Unknown\")}]->(t)\n",
    "\n",
    "\"\"\"\n",
    "\n",
    "session.run(query)"
   ]
  },
  {
   "cell_type": "code",
   "execution_count": 10,
   "id": "ce264841",
   "metadata": {},
   "outputs": [
    {
     "data": {
      "text/plain": [
       "<neo4j._sync.work.result.Result at 0x7efdaa117bb0>"
      ]
     },
     "execution_count": 10,
     "metadata": {},
     "output_type": "execute_result"
    }
   ],
   "source": [
    "# read up on cypher.\n",
    "query = \"\"\"\n",
    "\n",
    "LOAD CSV WITH HEADERS FROM \"file:///entity_relationships.csv\" AS row\n",
    "MATCH (f:Entity {id: row.from})\n",
    "MATCH (t:Entity {id: row.to})\n",
    "MERGE (f)-[:SHARE {share: coalesce(row.share, \"Unknown\")}]->(t)\n",
    "\n",
    "\"\"\"\n",
    "\n",
    "session.run(query)"
   ]
  },
  {
   "cell_type": "code",
   "execution_count": 11,
   "id": "4b85471d",
   "metadata": {},
   "outputs": [
    {
     "name": "stdout",
     "output_type": "stream",
     "text": [
      "-------------------------\n",
      "  Nodes:\n",
      "-------------------------\n"
     ]
    },
    {
     "data": {
      "text/html": [
       "<div>\n",
       "<style scoped>\n",
       "    .dataframe tbody tr th:only-of-type {\n",
       "        vertical-align: middle;\n",
       "    }\n",
       "\n",
       "    .dataframe tbody tr th {\n",
       "        vertical-align: top;\n",
       "    }\n",
       "\n",
       "    .dataframe thead th {\n",
       "        text-align: right;\n",
       "    }\n",
       "</style>\n",
       "<table border=\"1\" class=\"dataframe\">\n",
       "  <thead>\n",
       "    <tr style=\"text-align: right;\">\n",
       "      <th></th>\n",
       "      <th>node_name</th>\n",
       "      <th>labels</th>\n",
       "    </tr>\n",
       "  </thead>\n",
       "  <tbody>\n",
       "    <tr>\n",
       "      <th>0</th>\n",
       "      <td>#1 Coal Mine</td>\n",
       "      <td>[Energy_Project]</td>\n",
       "    </tr>\n",
       "    <tr>\n",
       "      <th>1</th>\n",
       "      <td>#1 Coal Mine (Ki-Coal)</td>\n",
       "      <td>[Energy_Project]</td>\n",
       "    </tr>\n",
       "    <tr>\n",
       "      <th>2</th>\n",
       "      <td>#1 Coal Mine (Knott County)</td>\n",
       "      <td>[Energy_Project]</td>\n",
       "    </tr>\n",
       "    <tr>\n",
       "      <th>3</th>\n",
       "      <td>#1 Mine (KY)</td>\n",
       "      <td>[Energy_Project]</td>\n",
       "    </tr>\n",
       "    <tr>\n",
       "      <th>4</th>\n",
       "      <td>#1 Strip Mine</td>\n",
       "      <td>[Energy_Project]</td>\n",
       "    </tr>\n",
       "    <tr>\n",
       "      <th>...</th>\n",
       "      <td>...</td>\n",
       "      <td>...</td>\n",
       "    </tr>\n",
       "    <tr>\n",
       "      <th>29347</th>\n",
       "      <td>Şişecam Enerji</td>\n",
       "      <td>[Entity]</td>\n",
       "    </tr>\n",
       "    <tr>\n",
       "      <th>29348</th>\n",
       "      <td>Şırnak Silopi (CİNER) power station Unit 1</td>\n",
       "      <td>[Energy_Project]</td>\n",
       "    </tr>\n",
       "    <tr>\n",
       "      <th>29349</th>\n",
       "      <td>Şırnak Silopi (CİNER) power station Unit 2</td>\n",
       "      <td>[Energy_Project]</td>\n",
       "    </tr>\n",
       "    <tr>\n",
       "      <th>29350</th>\n",
       "      <td>Şırnak Silopi (CİNER) power station Unit 3</td>\n",
       "      <td>[Energy_Project]</td>\n",
       "    </tr>\n",
       "    <tr>\n",
       "      <th>29351</th>\n",
       "      <td>Špitálka power station 1</td>\n",
       "      <td>[Energy_Project]</td>\n",
       "    </tr>\n",
       "  </tbody>\n",
       "</table>\n",
       "<p>29352 rows × 2 columns</p>\n",
       "</div>"
      ],
      "text/plain": [
       "                                        node_name            labels\n",
       "0                                    #1 Coal Mine  [Energy_Project]\n",
       "1                          #1 Coal Mine (Ki-Coal)  [Energy_Project]\n",
       "2                     #1 Coal Mine (Knott County)  [Energy_Project]\n",
       "3                                    #1 Mine (KY)  [Energy_Project]\n",
       "4                                   #1 Strip Mine  [Energy_Project]\n",
       "...                                           ...               ...\n",
       "29347                              Şişecam Enerji          [Entity]\n",
       "29348  Şırnak Silopi (CİNER) power station Unit 1  [Energy_Project]\n",
       "29349  Şırnak Silopi (CİNER) power station Unit 2  [Energy_Project]\n",
       "29350  Şırnak Silopi (CİNER) power station Unit 3  [Energy_Project]\n",
       "29351                    Špitálka power station 1  [Energy_Project]\n",
       "\n",
       "[29352 rows x 2 columns]"
      ]
     },
     "metadata": {},
     "output_type": "display_data"
    },
    {
     "name": "stdout",
     "output_type": "stream",
     "text": [
      "-------------------------\n",
      "  Relationships:\n",
      "-------------------------\n"
     ]
    },
    {
     "data": {
      "text/html": [
       "<div>\n",
       "<style scoped>\n",
       "    .dataframe tbody tr th:only-of-type {\n",
       "        vertical-align: middle;\n",
       "    }\n",
       "\n",
       "    .dataframe tbody tr th {\n",
       "        vertical-align: top;\n",
       "    }\n",
       "\n",
       "    .dataframe thead th {\n",
       "        text-align: right;\n",
       "    }\n",
       "</style>\n",
       "<table border=\"1\" class=\"dataframe\">\n",
       "  <thead>\n",
       "    <tr style=\"text-align: right;\">\n",
       "      <th></th>\n",
       "      <th>node_name_1</th>\n",
       "      <th>node_1_labels</th>\n",
       "      <th>relationship_type</th>\n",
       "      <th>node_name_2</th>\n",
       "      <th>node_2_labels</th>\n",
       "    </tr>\n",
       "  </thead>\n",
       "  <tbody>\n",
       "    <tr>\n",
       "      <th>0</th>\n",
       "      <td>3 Main Mine 3M</td>\n",
       "      <td>[Energy_Project]</td>\n",
       "      <td>SHARE</td>\n",
       "      <td>Hwange Colliery</td>\n",
       "      <td>[Entity]</td>\n",
       "    </tr>\n",
       "    <tr>\n",
       "      <th>1</th>\n",
       "      <td>3B Power</td>\n",
       "      <td>[Entity]</td>\n",
       "      <td>SHARE</td>\n",
       "      <td>Chugoku Electric Power International Netherlands</td>\n",
       "      <td>[Entity]</td>\n",
       "    </tr>\n",
       "    <tr>\n",
       "      <th>2</th>\n",
       "      <td>3B Power</td>\n",
       "      <td>[Entity]</td>\n",
       "      <td>SHARE</td>\n",
       "      <td>Mitsui &amp; Co</td>\n",
       "      <td>[Entity]</td>\n",
       "    </tr>\n",
       "    <tr>\n",
       "      <th>3</th>\n",
       "      <td>4C Acquisition</td>\n",
       "      <td>[Entity]</td>\n",
       "      <td>SHARE</td>\n",
       "      <td>Pinnacle West Capital</td>\n",
       "      <td>[Entity]</td>\n",
       "    </tr>\n",
       "    <tr>\n",
       "      <th>4</th>\n",
       "      <td>6 October power plant 1</td>\n",
       "      <td>[Energy_Project]</td>\n",
       "      <td>SHARE</td>\n",
       "      <td>Cairo Electricity Production</td>\n",
       "      <td>[Entity]</td>\n",
       "    </tr>\n",
       "    <tr>\n",
       "      <th>...</th>\n",
       "      <td>...</td>\n",
       "      <td>...</td>\n",
       "      <td>...</td>\n",
       "      <td>...</td>\n",
       "      <td>...</td>\n",
       "    </tr>\n",
       "    <tr>\n",
       "      <th>13790</th>\n",
       "      <td>Şişecam Enerji</td>\n",
       "      <td>[Entity]</td>\n",
       "      <td>SHARE</td>\n",
       "      <td>Türkiye İş Bankasi</td>\n",
       "      <td>[Entity]</td>\n",
       "    </tr>\n",
       "    <tr>\n",
       "      <th>13791</th>\n",
       "      <td>Şırnak Silopi (CİNER) power station Unit 1</td>\n",
       "      <td>[Energy_Project]</td>\n",
       "      <td>SHARE</td>\n",
       "      <td>Silopi Elektrik Üretim</td>\n",
       "      <td>[Entity]</td>\n",
       "    </tr>\n",
       "    <tr>\n",
       "      <th>13792</th>\n",
       "      <td>Şırnak Silopi (CİNER) power station Unit 2</td>\n",
       "      <td>[Energy_Project]</td>\n",
       "      <td>SHARE</td>\n",
       "      <td>Silopi Elektrik Üretim</td>\n",
       "      <td>[Entity]</td>\n",
       "    </tr>\n",
       "    <tr>\n",
       "      <th>13793</th>\n",
       "      <td>Şırnak Silopi (CİNER) power station Unit 3</td>\n",
       "      <td>[Energy_Project]</td>\n",
       "      <td>SHARE</td>\n",
       "      <td>Silopi Elektrik Üretim</td>\n",
       "      <td>[Entity]</td>\n",
       "    </tr>\n",
       "    <tr>\n",
       "      <th>13794</th>\n",
       "      <td>Špitálka power station 1</td>\n",
       "      <td>[Energy_Project]</td>\n",
       "      <td>SHARE</td>\n",
       "      <td>Teplárny Brno</td>\n",
       "      <td>[Entity]</td>\n",
       "    </tr>\n",
       "  </tbody>\n",
       "</table>\n",
       "<p>13795 rows × 5 columns</p>\n",
       "</div>"
      ],
      "text/plain": [
       "                                      node_name_1     node_1_labels  \\\n",
       "0                                  3 Main Mine 3M  [Energy_Project]   \n",
       "1                                        3B Power          [Entity]   \n",
       "2                                        3B Power          [Entity]   \n",
       "3                                  4C Acquisition          [Entity]   \n",
       "4                         6 October power plant 1  [Energy_Project]   \n",
       "...                                           ...               ...   \n",
       "13790                              Şişecam Enerji          [Entity]   \n",
       "13791  Şırnak Silopi (CİNER) power station Unit 1  [Energy_Project]   \n",
       "13792  Şırnak Silopi (CİNER) power station Unit 2  [Energy_Project]   \n",
       "13793  Şırnak Silopi (CİNER) power station Unit 3  [Energy_Project]   \n",
       "13794                    Špitálka power station 1  [Energy_Project]   \n",
       "\n",
       "      relationship_type                                       node_name_2  \\\n",
       "0                 SHARE                                   Hwange Colliery   \n",
       "1                 SHARE  Chugoku Electric Power International Netherlands   \n",
       "2                 SHARE                                       Mitsui & Co   \n",
       "3                 SHARE                             Pinnacle West Capital   \n",
       "4                 SHARE                      Cairo Electricity Production   \n",
       "...                 ...                                               ...   \n",
       "13790             SHARE                                Türkiye İş Bankasi   \n",
       "13791             SHARE                            Silopi Elektrik Üretim   \n",
       "13792             SHARE                            Silopi Elektrik Üretim   \n",
       "13793             SHARE                            Silopi Elektrik Üretim   \n",
       "13794             SHARE                                     Teplárny Brno   \n",
       "\n",
       "      node_2_labels  \n",
       "0          [Entity]  \n",
       "1          [Entity]  \n",
       "2          [Entity]  \n",
       "3          [Entity]  \n",
       "4          [Entity]  \n",
       "...             ...  \n",
       "13790      [Entity]  \n",
       "13791      [Entity]  \n",
       "13792      [Entity]  \n",
       "13793      [Entity]  \n",
       "13794      [Entity]  \n",
       "\n",
       "[13795 rows x 5 columns]"
      ]
     },
     "metadata": {},
     "output_type": "display_data"
    },
    {
     "name": "stdout",
     "output_type": "stream",
     "text": [
      "-------------------------\n",
      "  Density: 0.0\n",
      "-------------------------\n"
     ]
    }
   ],
   "source": [
    "my_neo4j_nodes_relationships()"
   ]
  },
  {
   "cell_type": "code",
   "execution_count": null,
   "id": "d898bd92",
   "metadata": {},
   "outputs": [],
   "source": []
  }
 ],
 "metadata": {
  "kernelspec": {
   "display_name": "Python 3 (ipykernel)",
   "language": "python",
   "name": "python3"
  },
  "language_info": {
   "codemirror_mode": {
    "name": "ipython",
    "version": 3
   },
   "file_extension": ".py",
   "mimetype": "text/x-python",
   "name": "python",
   "nbconvert_exporter": "python",
   "pygments_lexer": "ipython3",
   "version": "3.9.7"
  }
 },
 "nbformat": 4,
 "nbformat_minor": 5
}
