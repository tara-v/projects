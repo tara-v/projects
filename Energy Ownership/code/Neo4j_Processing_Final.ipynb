{
 "cells": [
  {
   "cell_type": "markdown",
   "id": "73d3d8f2",
   "metadata": {},
   "source": [
    "# Table of Contents\n",
    "- Final Neo4j Imports: Cypher or Python import methods\n",
    "- Energy Nodes and Relationship Processing"
   ]
  },
  {
   "cell_type": "markdown",
   "id": "12ba14aa",
   "metadata": {},
   "source": [
    "# Connections and Functions"
   ]
  },
  {
   "cell_type": "code",
   "execution_count": 2,
   "id": "9eae1ad2",
   "metadata": {},
   "outputs": [],
   "source": [
    "import os\n",
    "import neo4j\n",
    "import pandas as pd\n",
    "from IPython.display import display"
   ]
  },
  {
   "cell_type": "code",
   "execution_count": 3,
   "id": "e8542785",
   "metadata": {},
   "outputs": [],
   "source": [
    "driver = neo4j.GraphDatabase.driver(uri=\"neo4j://neo4j:7687\", auth=(\"neo4j\",\"ucb_mids_w205\"))\n",
    "session = driver.session(database=\"neo4j\")"
   ]
  },
  {
   "cell_type": "code",
   "execution_count": 4,
   "id": "b79f23b4",
   "metadata": {},
   "outputs": [],
   "source": [
    "# functions\n",
    "def my_neo4j_wipe_out_database():\n",
    "    \"wipe out database by deleting all nodes and relationships\"\n",
    "    query = \"match (node)-[relationship]->() delete node, relationship\"\n",
    "    session.run(query) \n",
    "    query = \"match (node) delete node\"\n",
    "    session.run(query)\n",
    "    \n",
    "def my_neo4j_run_query_pandas(query, **kwargs):\n",
    "    \"run a query and return the results in a pandas dataframe\"\n",
    "    result = session.run(query, **kwargs)\n",
    "    df = pd.DataFrame([r.values() for r in result], columns=result.keys())\n",
    "    \n",
    "    return df"
   ]
  },
  {
   "cell_type": "markdown",
   "id": "c67a7234",
   "metadata": {},
   "source": [
    "# Final Neo4j Imports"
   ]
  },
  {
   "cell_type": "markdown",
   "id": "b5eca1bf",
   "metadata": {},
   "source": [
    "Run the commands below in your terminal before you load data into Neo4j. Files pushed into origin/project 8/1/24. - Jason\n",
    "- sudo cp ~/user/projects/project-3-energy-ownership/code/Data/entity_nodes.csv ~/neo4j_import\n",
    "- sudo cp ~/user/projects/project-3-energy-ownership/code/Data/energy_project_nodes.csv ~/neo4j_import\n",
    "- sudo cp ~/user/projects/project-3-energy-ownership/code/Data/energy_project_relationships.csv ~/neo4j_import\n",
    "- sudo cp ~/user/projects/project-3-energy-ownership/code/Data/entity_relationships.csv ~/neo4j_import"
   ]
  },
  {
   "cell_type": "code",
   "execution_count": 1,
   "id": "da2c6949",
   "metadata": {},
   "outputs": [
    {
     "ename": "NameError",
     "evalue": "name 'my_neo4j_wipe_out_database' is not defined",
     "output_type": "error",
     "traceback": [
      "\u001b[0;31m---------------------------------------------------------------------------\u001b[0m",
      "\u001b[0;31mNameError\u001b[0m                                 Traceback (most recent call last)",
      "\u001b[0;32m/tmp/ipykernel_45/1806309209.py\u001b[0m in \u001b[0;36m<module>\u001b[0;34m\u001b[0m\n\u001b[0;32m----> 1\u001b[0;31m \u001b[0mmy_neo4j_wipe_out_database\u001b[0m\u001b[0;34m(\u001b[0m\u001b[0;34m)\u001b[0m\u001b[0;34m\u001b[0m\u001b[0;34m\u001b[0m\u001b[0m\n\u001b[0m",
      "\u001b[0;31mNameError\u001b[0m: name 'my_neo4j_wipe_out_database' is not defined"
     ]
    }
   ],
   "source": [
    "my_neo4j_wipe_out_database()"
   ]
  },
  {
   "cell_type": "markdown",
   "id": "788f7d5d",
   "metadata": {},
   "source": [
    "For reference:"
   ]
  },
  {
   "cell_type": "code",
   "execution_count": 7,
   "id": "55441a89",
   "metadata": {},
   "outputs": [
    {
     "name": "stdout",
     "output_type": "stream",
     "text": [
      "file:///entity_nodes.csv\n",
      "file:///energy_project_nodes.csv\n",
      "file:///energy_project_relationships.csv\n",
      "file:///entity_relationships.csv\n"
     ]
    }
   ],
   "source": [
    "# for reference\n",
    "print('file:///entity_nodes.csv')\n",
    "print('file:///energy_project_nodes.csv')\n",
    "print('file:///energy_project_relationships.csv')\n",
    "print('file:///entity_relationships.csv')"
   ]
  },
  {
   "cell_type": "code",
   "execution_count": 11,
   "id": "e9e33d23",
   "metadata": {},
   "outputs": [
    {
     "name": "stdout",
     "output_type": "stream",
     "text": [
      "Entity Nodes: (12520, 11)\n",
      "Energy Project Nodes: (25587, 8)\n",
      "Energy Project Relationships: (25008, 3)\n",
      "Entity Relationships: (16575, 3)\n"
     ]
    }
   ],
   "source": [
    "df = pd.read_csv('/user/projects/project-3-energy-ownership/code/Data/entity_nodes.csv')\n",
    "print('Entity Nodes:', df.shape)\n",
    "df = pd.read_csv('/user/projects/project-3-energy-ownership/code/Data/energy_project_nodes.csv')\n",
    "print('Energy Project Nodes:', df.shape)\n",
    "df = pd.read_csv('/user/projects/project-3-energy-ownership/code/Data/energy_project_relationships.csv')\n",
    "print('Energy Project Relationships:', df.shape) # 21515; ~4k relationships did not load\n",
    "df = pd.read_csv('/user/projects/project-3-energy-ownership/code/Data/entity_relationships.csv')\n",
    "print('Entity Relationships:', df.shape) # 12384; ~4k relationships did not load"
   ]
  },
  {
   "cell_type": "markdown",
   "id": "751b3dac",
   "metadata": {},
   "source": [
    "## METHOD 1: Copy and paste the below into Neo4j browser (python commands below)"
   ]
  },
  {
   "cell_type": "markdown",
   "id": "cbcc31ab",
   "metadata": {},
   "source": [
    "// Copy the below directly into Neo4j; delete the first line if the index is already created\n",
    "CREATE INDEX entity_id_index FOR (e:Entity) ON (e.id);\n",
    "LOAD CSV WITH HEADERS FROM \"file:///entity_nodes.csv\" AS row\n",
    "WITH row WHERE row.ID IS NOT NULL\n",
    "MERGE (e:Entity {id: row.ID})\n",
    "SET e.name = row.Name,\n",
    "    e.entity_type = coalesce(row['Entity Type'], \"Unknown\"),\n",
    "    e.legal_entity_type = coalesce(row['Legal Entity Type'], \"Unknown\"),\n",
    "    e.publicly_listed = coalesce(row.PubliclyListed, \"Unknown\"),\n",
    "    e.country = coalesce(row.Country, \"Unknown\"),\n",
    "    e.coal_plant_capacity = coalesce(row['coal plant capacity'],\"None\"),\n",
    "    e.gas_plant_capacity = coalesce(row['gas capacity'],\"None\"),\n",
    "    e.bio_plant_capacity = coalesce(row['bioenergy plant capacity'],\"None\"),\n",
    "    e.coal_mine_capacity = coalesce(row['coal mine capacity'],\"None\"),\n",
    "    e.steel_plant_capacity = coalesce(row['coal mine capacity'],\"None\");"
   ]
  },
  {
   "cell_type": "markdown",
   "id": "273e16f6",
   "metadata": {},
   "source": [
    "// copy the below directly into neo4j; delete the first line if the index is already created\n",
    "CREATE INDEX energy_id_index FOR (e:Energy_Project) ON (e.id);\n",
    "LOAD CSV WITH HEADERS FROM \"file:///energy_project_nodes.csv\" AS row\n",
    "WITH row WHERE row.index IS NOT NULL\n",
    "MERGE (e:Energy_Project {id: row.index})\n",
    "SET e.name = row.Energy_Project_Node_Name,\n",
    "    e.energy_project_type = row.Energy_Project_Type,\n",
    "    e.capacity_mw = toFloat(coalesce(row[\"Capacity (MW)\"], 0)),\n",
    "    e.status = coalesce(row.Status, \"Unknown\"),\n",
    "    e.country = coalesce(row.Country, \"Unknown\"),\n",
    "    e.capacity_mtpa = toFloat(coalesce(row[\"Capacity (Mtpa)\"], 0)),\n",
    "    e.nominal_crude_steel_capacity_ttpa = toFloat(coalesce(row[\"Nominal crude steel capacity (ttpa)\"], 0));"
   ]
  },
  {
   "cell_type": "markdown",
   "id": "5b34d287",
   "metadata": {},
   "source": [
    "// copy the below directly into neo4j\n",
    "LOAD CSV WITH HEADERS FROM \"file:///energy_project_relationships.csv\" AS row\n",
    "MATCH (f:Energy_Project {id: row.from})\n",
    "MATCH (t:Entity {id: row.to})\n",
    "MERGE (f)-[:SHARE {share: toFloat(coalesce(row.share, 0))}]->(t)"
   ]
  },
  {
   "cell_type": "markdown",
   "id": "adeb6557",
   "metadata": {},
   "source": [
    "// copy the below directly into neo4j\n",
    "LOAD CSV WITH HEADERS FROM \"file:///entity_relationships.csv\" AS row\n",
    "MATCH (f:Entity {id: row.from})\n",
    "MATCH (t:Entity {id: row.to})\n",
    "MERGE (f)-[:SHARE {share: toFloat(coalesce(row.share, 0))}]->(t)"
   ]
  },
  {
   "cell_type": "markdown",
   "id": "f1dc9f43",
   "metadata": {},
   "source": [
    "## METHOD 2: Run python functions (skip the first two functions if you've already loaded the index)"
   ]
  },
  {
   "cell_type": "code",
   "execution_count": null,
   "id": "cd6f8caf",
   "metadata": {},
   "outputs": [],
   "source": [
    "# create an entity_id_index for faster load and searching\n",
    "query = \"\"\"\n",
    "CREATE INDEX entity_id_index FOR (e:Entity) ON (e.id)\n",
    "\"\"\"\n",
    "\n",
    "session.run(query)"
   ]
  },
  {
   "cell_type": "code",
   "execution_count": null,
   "id": "cbe27302",
   "metadata": {},
   "outputs": [],
   "source": [
    "# create an entity_id_index for faster load and searching\n",
    "query = \"\"\"\n",
    "CREATE INDEX energy_id_index FOR (e:Energy_Project) ON (e.id);\n",
    "\"\"\"\n",
    "\n",
    "session.run(query)"
   ]
  },
  {
   "cell_type": "code",
   "execution_count": 5,
   "id": "51c355d7",
   "metadata": {},
   "outputs": [
    {
     "data": {
      "text/plain": [
       "<neo4j._sync.work.result.Result at 0x7f42a148dbe0>"
      ]
     },
     "execution_count": 5,
     "metadata": {},
     "output_type": "execute_result"
    }
   ],
   "source": [
    "query = \"\"\"\n",
    "LOAD CSV WITH HEADERS FROM \"file:///entity_nodes.csv\" AS row\n",
    "WITH row WHERE row.ID IS NOT NULL\n",
    "MERGE (e:Entity {id: row.ID})\n",
    "SET e.name = row.Name,\n",
    "    e.entity_type = coalesce(row['Entity Type'], \"Unknown\"),\n",
    "    e.legal_entity_type = coalesce(row['Legal Entity Type'], \"Unknown\"),\n",
    "    e.publicly_listed = coalesce(row.PubliclyListed, \"Unknown\"),\n",
    "    e.country = coalesce(row.Country, \"Unknown\"),\n",
    "    e.coal_plant_capacity = coalesce(row['coal plant capacity'],\"None\"),\n",
    "    e.gas_plant_capacity = coalesce(row['gas capacity'],\"None\"),\n",
    "    e.bio_plant_capacity = coalesce(row['bioenergy plant capacity'],\"None\"),\n",
    "    e.coal_mine_capacity = coalesce(row['coal mine capacity'],\"None\"),\n",
    "    e.steel_plant_capacity = coalesce(row['steel plant capacity'],\"None\");\n",
    "\"\"\"\n",
    "\n",
    "session.run(query)"
   ]
  },
  {
   "cell_type": "code",
   "execution_count": null,
   "id": "8106c9f5",
   "metadata": {},
   "outputs": [],
   "source": [
    "query = \"\"\"\n",
    "LOAD CSV WITH HEADERS FROM \"file:///energy_project_nodes.csv\" AS row\n",
    "WITH row WHERE row.index IS NOT NULL\n",
    "MERGE (e:Energy_Project {id: row.index})\n",
    "SET e.name = row.Energy_Project_Node_Name,\n",
    "    e.energy_project_type = row.Energy_Project_Type,\n",
    "    e.capacity_mw = toFloat(coalesce(row[\"Capacity (MW)\"], 0)),\n",
    "    e.status = coalesce(row.Status, \"Unknown\"),\n",
    "    e.country = coalesce(row.Country, \"Unknown\"),\n",
    "    e.capacity_mtpa = toFloat(coalesce(row[\"Capacity (Mtpa)\"], 0)),\n",
    "    e.nominal_crude_steel_capacity_ttpa = toFloat(coalesce(row[\"Nominal crude steel capacity (ttpa)\"], 0));\n",
    "\"\"\"\n",
    "\n",
    "session.run(query)"
   ]
  },
  {
   "cell_type": "code",
   "execution_count": null,
   "id": "0f445899",
   "metadata": {},
   "outputs": [],
   "source": [
    "query = \"\"\"\n",
    "LOAD CSV WITH HEADERS FROM \"file:///energy_project_relationships.csv\" AS row\n",
    "MATCH (f:Energy_Project {id: row.from})\n",
    "MATCH (t:Entity {id: row.to})\n",
    "MERGE (f)-[:SHARE {share: toFloat(coalesce(row.share, 0))}]->(t)\n",
    "\"\"\"\n",
    "\n",
    "session.run(query)"
   ]
  },
  {
   "cell_type": "code",
   "execution_count": null,
   "id": "3bc9c514",
   "metadata": {},
   "outputs": [],
   "source": [
    "query = \"\"\"\n",
    "LOAD CSV WITH HEADERS FROM \"file:///entity_relationships.csv\" AS row\n",
    "MATCH (f:Entity {id: row.from})\n",
    "MATCH (t:Entity {id: row.to})\n",
    "MERGE (f)-[:SHARE {share: toFloat(coalesce(row.share, 0))}]->(t)\n",
    "\"\"\"\n",
    "\n",
    "session.run(query)"
   ]
  },
  {
   "cell_type": "markdown",
   "id": "80caea73",
   "metadata": {},
   "source": [
    "# Separate Entity and Energy Project Relationships"
   ]
  },
  {
   "cell_type": "markdown",
   "id": "8da873e3",
   "metadata": {},
   "source": [
    "- load relationships file; split into entity and energy projects; assigns index for energy projects to allow for steel energy nodes to load correctly"
   ]
  },
  {
   "cell_type": "code",
   "execution_count": 5,
   "id": "a6cb1657",
   "metadata": {
    "scrolled": false
   },
   "outputs": [],
   "source": [
    "df = pd.read_csv('/user/projects/project-3-energy-ownership/code/Data/relationships.csv')"
   ]
  },
  {
   "cell_type": "code",
   "execution_count": 6,
   "id": "80d1020b",
   "metadata": {
    "scrolled": true
   },
   "outputs": [
    {
     "name": "stdout",
     "output_type": "stream",
     "text": [
      "(25587, 9)\n"
     ]
    },
    {
     "data": {
      "text/html": [
       "<div>\n",
       "<style scoped>\n",
       "    .dataframe tbody tr th:only-of-type {\n",
       "        vertical-align: middle;\n",
       "    }\n",
       "\n",
       "    .dataframe tbody tr th {\n",
       "        vertical-align: top;\n",
       "    }\n",
       "\n",
       "    .dataframe thead th {\n",
       "        text-align: right;\n",
       "    }\n",
       "</style>\n",
       "<table border=\"1\" class=\"dataframe\">\n",
       "  <thead>\n",
       "    <tr style=\"text-align: right;\">\n",
       "      <th></th>\n",
       "      <th>level_0</th>\n",
       "      <th>index</th>\n",
       "      <th>Energy_Project_Node_Name</th>\n",
       "      <th>Energy_Project_Type</th>\n",
       "      <th>Capacity (MW)</th>\n",
       "      <th>Status</th>\n",
       "      <th>Country</th>\n",
       "      <th>Capacity (Mtpa)</th>\n",
       "      <th>Nominal crude steel capacity (ttpa)</th>\n",
       "    </tr>\n",
       "  </thead>\n",
       "  <tbody>\n",
       "    <tr>\n",
       "      <th>0</th>\n",
       "      <td>0</td>\n",
       "      <td>EP0</td>\n",
       "      <td>48th Street power station 9</td>\n",
       "      <td>Gas or Oil Plant</td>\n",
       "      <td>84.0</td>\n",
       "      <td>operating</td>\n",
       "      <td>United States</td>\n",
       "      <td>NaN</td>\n",
       "      <td>NaN</td>\n",
       "    </tr>\n",
       "    <tr>\n",
       "      <th>1</th>\n",
       "      <td>1</td>\n",
       "      <td>EP1</td>\n",
       "      <td>491 E 48th Street power station 9</td>\n",
       "      <td>Gas or Oil Plant</td>\n",
       "      <td>83.5</td>\n",
       "      <td>operating</td>\n",
       "      <td>United States</td>\n",
       "      <td>NaN</td>\n",
       "      <td>NaN</td>\n",
       "    </tr>\n",
       "    <tr>\n",
       "      <th>2</th>\n",
       "      <td>2</td>\n",
       "      <td>EP2</td>\n",
       "      <td>6 October power plant 1</td>\n",
       "      <td>Gas or Oil Plant</td>\n",
       "      <td>150.0</td>\n",
       "      <td>operating</td>\n",
       "      <td>Egypt</td>\n",
       "      <td>NaN</td>\n",
       "      <td>NaN</td>\n",
       "    </tr>\n",
       "    <tr>\n",
       "      <th>3</th>\n",
       "      <td>3</td>\n",
       "      <td>EP3</td>\n",
       "      <td>6 October power plant 2</td>\n",
       "      <td>Gas or Oil Plant</td>\n",
       "      <td>150.0</td>\n",
       "      <td>operating</td>\n",
       "      <td>Egypt</td>\n",
       "      <td>NaN</td>\n",
       "      <td>NaN</td>\n",
       "    </tr>\n",
       "    <tr>\n",
       "      <th>4</th>\n",
       "      <td>4</td>\n",
       "      <td>EP4</td>\n",
       "      <td>6 October power plant 3</td>\n",
       "      <td>Gas or Oil Plant</td>\n",
       "      <td>150.0</td>\n",
       "      <td>operating</td>\n",
       "      <td>Egypt</td>\n",
       "      <td>NaN</td>\n",
       "      <td>NaN</td>\n",
       "    </tr>\n",
       "  </tbody>\n",
       "</table>\n",
       "</div>"
      ],
      "text/plain": [
       "   level_0 index           Energy_Project_Node_Name Energy_Project_Type  \\\n",
       "0        0   EP0        48th Street power station 9    Gas or Oil Plant   \n",
       "1        1   EP1  491 E 48th Street power station 9    Gas or Oil Plant   \n",
       "2        2   EP2            6 October power plant 1    Gas or Oil Plant   \n",
       "3        3   EP3            6 October power plant 2    Gas or Oil Plant   \n",
       "4        4   EP4            6 October power plant 3    Gas or Oil Plant   \n",
       "\n",
       "   Capacity (MW)     Status        Country  Capacity (Mtpa)  \\\n",
       "0           84.0  operating  United States              NaN   \n",
       "1           83.5  operating  United States              NaN   \n",
       "2          150.0  operating          Egypt              NaN   \n",
       "3          150.0  operating          Egypt              NaN   \n",
       "4          150.0  operating          Egypt              NaN   \n",
       "\n",
       "   Nominal crude steel capacity (ttpa)  \n",
       "0                                  NaN  \n",
       "1                                  NaN  \n",
       "2                                  NaN  \n",
       "3                                  NaN  \n",
       "4                                  NaN  "
      ]
     },
     "execution_count": 6,
     "metadata": {},
     "output_type": "execute_result"
    }
   ],
   "source": [
    "ep_df = pd.read_csv('/user/projects/project-3-energy-ownership/code/Data/energy_project_nodes.csv')\n",
    "ep_df = ep_df.reset_index()\n",
    "ep_df['index'] = 'EP' + ep_df.index.astype(str)\n",
    "print(ep_df.shape)\n",
    "ep_df.head()"
   ]
  },
  {
   "cell_type": "code",
   "execution_count": 5,
   "id": "f85b80ab",
   "metadata": {},
   "outputs": [],
   "source": [
    "# ep_df.to_csv('/user/projects/project-3-energy-ownership/code/Data/energy_project_nodes.csv', index=False)"
   ]
  },
  {
   "cell_type": "code",
   "execution_count": 7,
   "id": "858d13cf",
   "metadata": {},
   "outputs": [
    {
     "name": "stdout",
     "output_type": "stream",
     "text": [
      "(41583, 6)\n"
     ]
    },
    {
     "data": {
      "text/html": [
       "<div>\n",
       "<style scoped>\n",
       "    .dataframe tbody tr th:only-of-type {\n",
       "        vertical-align: middle;\n",
       "    }\n",
       "\n",
       "    .dataframe tbody tr th {\n",
       "        vertical-align: top;\n",
       "    }\n",
       "\n",
       "    .dataframe thead th {\n",
       "        text-align: right;\n",
       "    }\n",
       "</style>\n",
       "<table border=\"1\" class=\"dataframe\">\n",
       "  <thead>\n",
       "    <tr style=\"text-align: right;\">\n",
       "      <th></th>\n",
       "      <th>from</th>\n",
       "      <th>to</th>\n",
       "      <th>share</th>\n",
       "      <th>index</th>\n",
       "      <th>Energy_Project_Node_Name</th>\n",
       "      <th>Status</th>\n",
       "    </tr>\n",
       "  </thead>\n",
       "  <tbody>\n",
       "    <tr>\n",
       "      <th>0</th>\n",
       "      <td>E100000001858</td>\n",
       "      <td>E100000000354</td>\n",
       "      <td>100.0</td>\n",
       "      <td>NaN</td>\n",
       "      <td>NaN</td>\n",
       "      <td>NaN</td>\n",
       "    </tr>\n",
       "    <tr>\n",
       "      <th>1</th>\n",
       "      <td>E100000000354</td>\n",
       "      <td>E100001000146</td>\n",
       "      <td>100.0</td>\n",
       "      <td>NaN</td>\n",
       "      <td>NaN</td>\n",
       "      <td>NaN</td>\n",
       "    </tr>\n",
       "    <tr>\n",
       "      <th>2</th>\n",
       "      <td>E100000001759</td>\n",
       "      <td>E100001011410</td>\n",
       "      <td>NaN</td>\n",
       "      <td>NaN</td>\n",
       "      <td>NaN</td>\n",
       "      <td>NaN</td>\n",
       "    </tr>\n",
       "    <tr>\n",
       "      <th>3</th>\n",
       "      <td>E100000003784</td>\n",
       "      <td>E100000000431</td>\n",
       "      <td>100.0</td>\n",
       "      <td>NaN</td>\n",
       "      <td>NaN</td>\n",
       "      <td>NaN</td>\n",
       "    </tr>\n",
       "    <tr>\n",
       "      <th>4</th>\n",
       "      <td>E100000000380</td>\n",
       "      <td>E100000000382</td>\n",
       "      <td>100.0</td>\n",
       "      <td>NaN</td>\n",
       "      <td>NaN</td>\n",
       "      <td>NaN</td>\n",
       "    </tr>\n",
       "  </tbody>\n",
       "</table>\n",
       "</div>"
      ],
      "text/plain": [
       "            from             to  share index Energy_Project_Node_Name Status\n",
       "0  E100000001858  E100000000354  100.0   NaN                      NaN    NaN\n",
       "1  E100000000354  E100001000146  100.0   NaN                      NaN    NaN\n",
       "2  E100000001759  E100001011410    NaN   NaN                      NaN    NaN\n",
       "3  E100000003784  E100000000431  100.0   NaN                      NaN    NaN\n",
       "4  E100000000380  E100000000382  100.0   NaN                      NaN    NaN"
      ]
     },
     "execution_count": 7,
     "metadata": {},
     "output_type": "execute_result"
    }
   ],
   "source": [
    "merged_relationship = pd.merge(df, ep_df[['index', 'Energy_Project_Node_Name', 'Status']],\n",
    "                               how='left',\n",
    "                               left_on='from',\n",
    "                               right_on='Energy_Project_Node_Name')\n",
    "print(merged_relationship.shape)\n",
    "merged_relationship.head()"
   ]
  },
  {
   "cell_type": "code",
   "execution_count": 9,
   "id": "ae2c16d6",
   "metadata": {},
   "outputs": [
    {
     "data": {
      "text/html": [
       "<div>\n",
       "<style scoped>\n",
       "    .dataframe tbody tr th:only-of-type {\n",
       "        vertical-align: middle;\n",
       "    }\n",
       "\n",
       "    .dataframe tbody tr th {\n",
       "        vertical-align: top;\n",
       "    }\n",
       "\n",
       "    .dataframe thead th {\n",
       "        text-align: right;\n",
       "    }\n",
       "</style>\n",
       "<table border=\"1\" class=\"dataframe\">\n",
       "  <thead>\n",
       "    <tr style=\"text-align: right;\">\n",
       "      <th></th>\n",
       "      <th>from</th>\n",
       "      <th>to</th>\n",
       "      <th>share</th>\n",
       "    </tr>\n",
       "  </thead>\n",
       "  <tbody>\n",
       "    <tr>\n",
       "      <th>5414</th>\n",
       "      <td>EP0</td>\n",
       "      <td>E100000002215</td>\n",
       "      <td>100.0</td>\n",
       "    </tr>\n",
       "    <tr>\n",
       "      <th>5415</th>\n",
       "      <td>EP1</td>\n",
       "      <td>E100000002215</td>\n",
       "      <td>100.0</td>\n",
       "    </tr>\n",
       "    <tr>\n",
       "      <th>5416</th>\n",
       "      <td>EP2</td>\n",
       "      <td>E100000001858</td>\n",
       "      <td>100.0</td>\n",
       "    </tr>\n",
       "    <tr>\n",
       "      <th>5417</th>\n",
       "      <td>EP3</td>\n",
       "      <td>E100000001858</td>\n",
       "      <td>100.0</td>\n",
       "    </tr>\n",
       "    <tr>\n",
       "      <th>5418</th>\n",
       "      <td>EP4</td>\n",
       "      <td>E100000001858</td>\n",
       "      <td>100.0</td>\n",
       "    </tr>\n",
       "  </tbody>\n",
       "</table>\n",
       "</div>"
      ],
      "text/plain": [
       "     from             to  share\n",
       "5414  EP0  E100000002215  100.0\n",
       "5415  EP1  E100000002215  100.0\n",
       "5416  EP2  E100000001858  100.0\n",
       "5417  EP3  E100000001858  100.0\n",
       "5418  EP4  E100000001858  100.0"
      ]
     },
     "execution_count": 9,
     "metadata": {},
     "output_type": "execute_result"
    }
   ],
   "source": [
    "entity_relationships = merged_relationship[merged_relationship.Energy_Project_Node_Name.isna()][['from', 'to', 'share']]\n",
    "ep_relationships = merged_relationship[~merged_relationship.Energy_Project_Node_Name.isna()][['index', 'to', 'share']]\n",
    "ep_relationships.columns = ['from', 'to', 'share']\n",
    "ep_relationships.head()"
   ]
  },
  {
   "cell_type": "code",
   "execution_count": 10,
   "id": "2bf8ff38",
   "metadata": {},
   "outputs": [],
   "source": [
    "# ep_relationships.to_csv('/user/projects/project-3-energy-ownership/code/Data/energy_project_relationships.csv', index=False)\n",
    "# entity_relationships.to_csv('/user/projects/project-3-energy-ownership/code/Data/entity_relationships.csv', index=False)"
   ]
  }
 ],
 "metadata": {
  "kernelspec": {
   "display_name": "Python 3 (ipykernel)",
   "language": "python",
   "name": "python3"
  },
  "language_info": {
   "codemirror_mode": {
    "name": "ipython",
    "version": 3
   },
   "file_extension": ".py",
   "mimetype": "text/x-python",
   "name": "python",
   "nbconvert_exporter": "python",
   "pygments_lexer": "ipython3",
   "version": "3.9.7"
  }
 },
 "nbformat": 4,
 "nbformat_minor": 5
}
